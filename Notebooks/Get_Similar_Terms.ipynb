{
 "cells": [
  {
   "cell_type": "code",
   "execution_count": 2,
   "metadata": {},
   "outputs": [],
   "source": [
    "import pandas as pd\n",
    "from yaml import safe_load\n",
    "from pandas import json_normalize\n",
    "\n",
    "from sentence_transformers import SentenceTransformer\n",
    "from transformers import AutoModel, BertTokenizer\n",
    "from tqdm import tqdm\n",
    "from sklearn.metrics.pairwise import cosine_similarity\n",
    "import pickle\n",
    "import numpy as np"
   ]
  },
  {
   "cell_type": "code",
   "execution_count": 3,
   "metadata": {},
   "outputs": [],
   "source": [
    "def calculating_similarity_text_df(definition, text_embeddings):\n",
    "    definition_embedding= model.encode(definition, batch_size = 8, show_progress_bar = True)\n",
    "    similarity_def=cosine_similarity( [definition_embedding], text_embeddings)\n",
    "    similarity_def_sorted = similarity_def.argsort()\n",
    "    id_1 = []\n",
    "    id_2 = []\n",
    "    score = []\n",
    "    for index,array in enumerate(similarity_def_sorted):\n",
    "        id_1.append(index)\n",
    "        score.append(similarity_def[index][array[-1]])\n",
    "        id_2.append(array[-1])\n",
    "    index_df = pd.DataFrame({'id_1' : id_1,\n",
    "                          'id_2' : id_2,\n",
    "                          'score' : score})\n",
    "    return index_df"
   ]
  },
  {
   "cell_type": "code",
   "execution_count": 4,
   "metadata": {},
   "outputs": [],
   "source": [
    "def calculating_similarity_text(definition, text_embeddings):\n",
    "    definition_embedding= model.encode(definition, batch_size = 8, show_progress_bar = True)\n",
    "    similarities=cosine_similarity( [definition_embedding], text_embeddings)\n",
    "    similarities_sorted = similarities.argsort()\n",
    "    results={}\n",
    "    for i in range(-1, -12, -1):\n",
    "        similar_index=similarities_sorted[0][i]\n",
    "        rank=similarities[0][similar_index]\n",
    "        results[uris[similar_index]]=[terms_info[similar_index][1],terms_info[similar_index][2], terms_info[similar_index][4], terms_info[similar_index][0], documents[similar_index], rank]\n",
    "    return results"
   ]
  },
  {
   "cell_type": "code",
   "execution_count": 5,
   "metadata": {},
   "outputs": [],
   "source": [
    "def get_document(uri):\n",
    "    uri=\"<\"+uri+\">\"\n",
    "    sparql = SPARQLWrapper(\"http://localhost:3030/edition7Clean/sparql\")\n",
    "    query=\"\"\"\n",
    "    PREFIX eb: <https://w3id.org/eb#>\n",
    "    PREFIX rdfs: <http://www.w3.org/2000/01/rdf-schema#>\n",
    "    SELECT ?definition ?term\n",
    "        WHERE {{\n",
    "            %s a eb:Article ;\n",
    "               eb:name ?term ;\n",
    "               eb:definition ?definition . \n",
    "            }\n",
    "            UNION {\n",
    "            %s a eb:Topic ;\n",
    "              eb:name ?term ; \n",
    "              eb:definition ?definition . \n",
    "            }\n",
    "       } \n",
    "    \"\"\" %(uri, uri)\n",
    "    sparql.setQuery(query)\n",
    "    sparql.setReturnFormat(JSON)\n",
    "    results = sparql.query().convert()\n",
    "    term = results[\"results\"][\"bindings\"][0][\"term\"][\"value\"]\n",
    "    definition=results[\"results\"][\"bindings\"][0][\"definition\"][\"value\"]\n",
    "    return term, definition"
   ]
  },
  {
   "cell_type": "code",
   "execution_count": null,
   "metadata": {},
   "outputs": [],
   "source": []
  }
 ],
 "metadata": {
  "kernelspec": {
   "display_name": ".venv",
   "language": "python",
   "name": "python3"
  },
  "language_info": {
   "codemirror_mode": {
    "name": "ipython",
    "version": 3
   },
   "file_extension": ".py",
   "mimetype": "text/x-python",
   "name": "python",
   "nbconvert_exporter": "python",
   "pygments_lexer": "ipython3",
   "version": "3.10.7"
  },
  "orig_nbformat": 4
 },
 "nbformat": 4,
 "nbformat_minor": 2
}
