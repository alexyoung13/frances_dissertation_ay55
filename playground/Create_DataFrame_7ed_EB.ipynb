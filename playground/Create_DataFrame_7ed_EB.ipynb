{
 "cells": [
  {
   "cell_type": "code",
   "execution_count": 1,
   "metadata": {},
   "outputs": [],
   "source": [
    "import yaml\n",
    "import numpy as np\n",
    "import collections\n",
    "import string\n",
    "import copy"
   ]
  },
  {
   "cell_type": "code",
   "execution_count": 3,
   "metadata": {},
   "outputs": [],
   "source": [
    "import pandas as pd\n",
    "from yaml import safe_load\n",
    "from pandas import json_normalize\n",
    "from difflib import SequenceMatcher"
   ]
  },
  {
   "cell_type": "code",
   "execution_count": 5,
   "metadata": {},
   "outputs": [],
   "source": [
    "import chart_studio.plotly as py\n",
    "import plotly.figure_factory as ff\n",
    "import plotly.express as px"
   ]
  },
  {
   "cell_type": "code",
   "execution_count": 6,
   "metadata": {},
   "outputs": [],
   "source": [
    "import networkx as nx\n",
    "import matplotlib.pyplot as plt"
   ]
  },
  {
   "cell_type": "code",
   "execution_count": 7,
   "metadata": {},
   "outputs": [],
   "source": [
    "import spacy"
   ]
  },
  {
   "cell_type": "code",
   "execution_count": 14,
   "metadata": {},
   "outputs": [],
   "source": [
    "import glob\n",
    "import re"
   ]
  },
  {
   "cell_type": "code",
   "execution_count": 71,
   "metadata": {},
   "outputs": [
    {
     "name": "stdout",
     "output_type": "stream",
     "text": [
      "ABIATHAR, high priest of the Jews, son to Ahime-lech, who had borne the same office, and received David into his house. This so enraged Saul, who hated David, that he put Ahimelech to death, and 81 priests; Abiathar alone escaped the massacre. He afterwards was high priést, and often gave King David testimonies of his fidelity, -particularly during Absalom’s conspiracy, at which time Abiathar followed David, and bore away the ark. But after this he conspired with Adonijah, in order to raise him to the throne of King David his father; which so exasperated Solomon against him, that he divested him of the priesthood, and banished him, A. μ. 3021, before Christ 1014.\n",
      "ABIATHAR: , high priest of the Jews, son to Ahime-lech, who had borne the same office, and received David into his house. This so enraged Saul, who hated David, that he put Ahimelech to death, and 81 priests; Abiathar alone escaped the massacre. He afterwards was high priést, and often gave King David testimonies of his fidelity, -particularly during Absalom’s conspiracy, at which time Abiathar followed David, and bore away the ark. But after this he conspired with Adonijah, in order to raise him to the throne of King David his father; which so exasperated Solomon against him, that he divested him of the priesthood, and banished him, A. μ. 3021, before Christ 1014.\n",
      "ALOA, in Grecian Antiquity, a festival kept in honour of Ceres by the husbandmen, and supposed to resemble our harvest-home.\n",
      "ALOA: , in Grecian Antiquity, a festival kept in honour of Ceres by the husbandmen, and supposed to resemble our harvest-home.\n",
      "ACROSTOLIUM, in ancient naval architecture, the extreme part of the ornament used on the prows of ships, which was sometimes in the shape of a buckler, helmet, animal, &c. but more frequently circular, or spiral. It was usual to tear them from the prows of vanquished vessels, and fix them to those of the conquerors, as a signal of victory. They were frequently represented on the reverse of ancient medals.\n",
      "ACROSTOLIUM: , in ancient naval architecture, the extreme part of the ornament used on the prows of ships, which was sometimes in the shape of a buckler, helmet, animal, &c. but more frequently circular, or spiral. It was usual to tear them from the prows of vanquished vessels, and fix them to those of the conquerors, as a signal of victory. They were frequently represented on the reverse of ancient medals.\n",
      "AMYRALDISM, a name given by some writers to the doctrine of universal grace, as explained and asserted by Amyraldus, or Moses Amyraut, and others, his followers, among the reformed in France, towards the middle of the 17 th century.\n",
      "This doctrine principally consisted of the following particulars, viz. that God desires the happiness of all men, and none are excluded by a divine decree; that none can obtain salvation without faith in Christ; that God refuses to none the power of believing, though he does not grant to all his assistance, that they may improve this power to saving purposes; and that many perish through their own fault. Those who embraced this doctrine were called Urnversalists ; though it is evident they rendered grace universal in words, but partial in reality, and are chargeable with greater inconsistencies than the Supra-lapsarians.\n",
      "AMYRALDISM: , a name given by some writers to the doctrine of universal grace, as explained and asserted by Amyraldus, or Moses Amyraut, and others, his followers, among the reformed in France, towards the middle of the 17 th century.This doctrine principally consisted of the following particulars, viz. that God desires the happiness of all men, and none are excluded by a divine decree; that none can obtain salvation without faith in Christ; that God refuses to none the power of believing, though he does not grant to all his assistance, that they may improve this power to saving purposes; and that many perish through their own fault. Those who embraced this doctrine were called Urnversalists ; though it is evident they rendered grace universal in words, but partial in reality, and are chargeable with greater inconsistencies than the Supra-lapsarians.\n",
      "ADDITION, in Music, a dot marked on the right side of a note, signifying that it is to be sounded or lengthened half as much more as it would have been without such mark.\n",
      "Addition, in Law, is that name or title which is given to a man over and above his proper name and surname, to show of what estate, degree, or mystery he is; and of what town, village, or country.\n",
      "ADDITION: , in Music, a dot marked on the right side of a note, signifying that it is to be sounded or lengthened half as much more as it would have been without such mark.\n",
      "Additions of Estate or Quality are, Yeoman, Gentleman, Esquire, and such like.\n",
      "ADDITIONS of Degree are those we call names of dignity; as Knight, Lord, Earl, Marquis, and Duke.\n",
      "ADDITION: in Law is that name or title which is given to a man over and above his proper name and surname to show of what estate degree or mystery he is; and of what town village or country.Additions of Estate or Quality are, Yeoman, Gentleman, Esquire, and such like.\n",
      "Additions of Mystery are such as Scrivener, Painter, Mason, and the like.\n",
      "Additions of Place are, of Thorpe, of Dale, of Wood-stock. Where a man hath household in two places, he shall be said to dwell in both, so that his addition in either may suffice. By stat. 1 Hen. V. cap. 5. it was ordained, that in such suits or actions where process of outlawry lies, such addition should be made to the name of the defendant, to show his estate, mystery, and place where he dwells; and that the writs not having such additions should abate if the defendant take exception thereto, but not by the office of the court. The reason of this ordinance was, that one man might not be troubled by the outlawry of another; but by reason of the certain addition, every person might bear his own burden.\n",
      "Additions, in Distilling, a name given to such things as are added to the wash or liquor while in a state of fermentation, in order to improve the vinosity of the spirit, procure a larger quantity of it, or give it a particular flavour. All things, of whatever kind, thus added in the time of fermentation, are called by those of the business who speak most intelligently, additions; but many confound them with things of a very different nature, under the name of ferments. Additions, in Heraldry, some things added to a coat-of-arms, as marks of honour; and therefore directly opposite to abatements. Among additions we reckon Bordure, Quarter, Canton, Gyron, Pile, &c.\n",
      "ADDITIONS: in Law is that name or title which is given to a man over and above his proper name and surname to show of what estate degree or mystery he is; and of what town village or country.Additions of Estate or Quality are, Yeoman, Gentleman, Esquire, and such like. of Degree are those we call names of dignity; as Knight, Lord, Earl, Marquis, and Duke.Additions of Mystery are such as Scrivener, Painter, Mason, and the like.Additions of Place are, of Thorpe, of Dale, of Wood-stock. Where a man hath household in two places, he shall be said to dwell in both, so that his addition in either may suffice. By stat. 1 Hen. V. cap. 5. it was ordained, that in such suits or actions where process of outlawry lies, such addition should be made to the name of the defendant, to show his estate, mystery, and place where he dwells; and that the writs not having such additions should abate if the defendant take exception thereto, but not by the office of the court. The reason of this ordinance was, that one man might not be troubled by the outlawry of another; but by reason of the certain addition, every person might bear his own burden.\n",
      "ADDITIONS: in Distilling a name given to such things as are added to the wash or liquor while in a state of fermentation in order to improve the vinosity of the spirit procure a larger quantity of it or give it a particular flavour. All things of whatever kind thus added in the time of fermentation are called by those of the business who speak most intelligently additions; but many confound them with things of a very different nature under the name of ferments. Additions in Heraldry some things added to a coat-of-arms as marks of honour; and therefore directly opposite to abatements. Among additions we reckon Bordure Quarter Canton Gyron Pile &c.\n",
      "ADULTERINE, in the Civil Law, is particularly applied to a child issued from an adulterous amour or commerce. Adulterine children are more odious than the illegitimate offspring of single persons. The Roman law even refuses them the title of natural children, as if nature disowned them. Adulterine children are not easily dispensed with for admission to orders. Those are not deemed adulterine who are begotten of a woman openly married, through ignorance of a former wife being alive. By a decree of the parliament of Paris, adulterine children are declared not legitimated by the subsequent marriage of the parties, even though a papal dispensation be had for such marriage, wherein is a clause of legitimation.\n",
      "Adulterine Marriages, in St Augustine’s sense, denote second marriages contracted after a divorce.\n",
      "ADULTERINE: , in the Civil Law, is particularly applied to a child issued from an adulterous amour or commerce. Adulterine children are more odious than the illegitimate offspring of single persons. The Roman law even refuses them the title of natural children, as if nature disowned them. Adulterine children are not easily dispensed with for admission to orders. Those are not deemed adulterine who are begotten of a woman openly married, through ignorance of a former wife being alive. By a decree of the parliament of Paris, adulterine children are declared not legitimated by the subsequent marriage of the parties, even though a papal dispensation be had for such marriage, wherein is a clause of legitimation.Adulterine Marriages, in St Augustine’s sense, denote second marriages contracted after a divorce.\n",
      "ALHAMBRA, the ancient fortress and residence of the Moorish monarchs of Granada. It derives its name from the red colour of the materials with which it was originally built, Alhambra signifying a red house. It appears to a traveller a huge heap of as ugly buildings as can well be seen, all huddled together, seemingly without the least intention of forming one habitation out of them. The walls are entirely unornamented, all gravel and pebbles, daubed over with plaster by a very coarse hand; yet this is the palace of the Moorish-kings of Granada, indisputably the most curious place within that exists in Spain, perhaps in the world. In many countries may be seen excellent modern as well as ancient architecture, both entire and in ruins; but nothing to be met with anywhere else can convey an idea of this edifice, except the decorations of an opera, or the tales of the genii.\n",
      "Passing round the corner of the emperor’s palace, one is admitted at a plain, unornamented door in a corner. On my first visit, says Mr Swinburne (Travels in Spain), I confess I wąs struck with amazement, as I stept over the threshold, to find myself on a sudden transported into a species of fairy land. The first place you come to is the court called the commwna or del mesucar, that is, the common baths ; an oblong square, with a deep basin of clear water in the middle; two flights of marble steps leading down to the bottom; on each side a parterre of flowers, and a row of orange trees. Round the court runs a peristyle paved with marble; the arches bear upon very slight pillars, in proportions and style different from all the regular orders of architecture. The ceilings and walls are in-crustated with fretwork in stucco, so minute and intricate that the most patient draughtsman would find it difficult to follow it, unless he made himself master of the general plan. This would facilitate the operation exceedingly; for all this work is frequently and regularly repeated at certain distances, and has been executed by means of square moulds applied successively, and the parts joined together with the utmost nicety. In every division are Arabic sentences of different lengths, most of them expressive of the following meanings: “There is no conqueror but God;” or, “Obedience and honour to our lord Abouab-doulah.” The ceilings are gilt or painted, and time has caused no diminution in the freshness of their colours, though constantly exposed to the air. The lower part of the walls is Mosaic, disposed in fantastic knots and festoons. A work so novel, so exquisitely finished, and so different from all that he has ever seen, must afford a stranger the most agreeable sensations while he treads this magic ground. The porches at the ends are more like grotto-work than any thing else to which they can be compared. That on the right hand opens into an octagon vault, under the emperor’s palace, and forms a perfect whispering gallery, meant to be a communication between the offices of both houses.\n",
      "Opposite to the door of the communa through which you enter, is another leading into the quarto de lοs leones, or apartment of the lions, which is an oblong court, 100 feet in length and 50 in breadth, environed with a colonnade seven feet broad on the sides and 10 at the end. Two porticoes or cabinets, about 15 feet square, project into the court at the two extremities. The square is paved with coloured tiles, the colonnade with white marble. The walls are covered five feet up from the ground with blue and yellow tiles, disposed chequerwise. Above and below is a border of small escutcheons, enamelled blue and gold, with an Arabic motto on a bend, signifying, “No conqueror but God.” The columns that support the roof and gallery are of white marble, very slender, and fantastically adorned. They are nine feet high, including base and capital, and eight inches and a half in diameter. They are very irregularly placed; sometimes singly, at others in groups of three, but more frequently two together. The width of the horse-shoe arches above them is four feet two inches for the large ones, and three for the smaller. The ceiling of the portico is finished in a much finer and more complicated manner than that of the communa, and the stucco laid on the walls with inimitable delicacy; in the ceiling it is so artfully frosted and handled as to exceed belief. The capitals are of various designs, though each design is repeated several times in the circumference of the court, but not the least attention has been paid to placing them regularly or opposite to each other. Not the smallest representation of animal life can be discovered amidst the varieties of foliages, grotesques, and strange ornaments. About each arch is a large square of arabesques, surrounded with a rim of characters, tha are generally quotations from the Koran. Over the pillars is another square of delightful filligree work, up is a wooden rim, or kind of corniçe, as much ennche [7:2:513] with carving as the stucco that covers the part underneath. Over this projects a roof of red tiles, the only thing that disfigures this beautiful square. This ugly covering is a modern addition made by a late prime minister, who a few years ago gave the Alhambra a thorough repair. In Moorish times the building was covered with large painted and glazed tiles, of which a few are still to be seen In the centre of the court are twelve ill-made lions muzzled, their fore parts smooth, their hind parts rough, which bear upon their backs an enormous basin, out of which a lesser rises. While the pipes were kept in good order, a great volume of water was thrown up, that, falling down into the basins, passed through the beasts, and issued out of their mouths into a large reservoir, where it communicated by channels with the jets ďeau in the apartments. This fountain is of white marble, embellished with many festoons and Arabic distiches.\n",
      "Passing along the colonnade, and keeping on the south side, you come to a circular room occupied by the men as a place for drinking coffee, &c. A fountain in the middle refreshed the apartment in summer. The form of this hall, the elegance of its cupola, the cheerful distribution of light from above, and the exquisite manner in which the stucco is designed, painted, and finished, exceed all power of description. Every thing in it inspires the most pleasing, voluptuous ideas; yet in this sweet retreat they pretend that Abouabdoulah assembled the Abencerrages, and caused their heads to be struck off into the fountain. Continuing your walk round, you are next brought to a couple of rooms at the head of the court, which are supposed to have been tribunals, or audience-chambers.\n",
      "Opposite to the sala de los Abencerrages is the entrance into the torre de las dos hermanas, or the tower of the two sisters; so named from two very beautiful pieces of marble, laid as flags in the pavement. This gate exceeds all the rest in profusion of ornaments, and in beauty of prospect which it affords through a range of apartments, where a multitude of arches terminate in a large window open to the country. In a gleam of sunshine, the variety of tints and lights thrown upon this enfilade are uncommonly rich. The first hall is the concert room, where the women sat; the musicians played above in four balconies. In the middle is ay⅛ ďeau. The marble pavement is equal to the finest existing, for the size of the flags and evenness of the colour. The two sisters, which give name to the room, are slabs that measure 15 feet by seven and a half, without flaw or stain. The walls, up to a certain height, are mosaic, and above are divided into very neat compartments of stucco, all of one design, which is also followed in many of the adjacent halls and galleries. The ceiling is a fretted cove. To preserve this vaulted roof, as well as some of the other principal cupolas, the outward walls of the towers are raised ten feet above the top of the dome, and support another roof over all, by which means no danger can ever be caused by wet weather or excessive heat and cold. From this hall you pass round the little myrtle garden of Lindaraxa, into an additional building made to the east end by Charles V. The rooms are small and low. His dear motto, Plus outre, appears on every beam. This leads to a little tower projecting from the line of the north wall, called el tocador, or the dressing-room of the sultana, ļt is a small square cabinet, in the middle of an open gallery, from which it receives light by a door and three windows. The look-out is charming. In one corner is a large marble flag, drilled full of holes, through which the smoke of perfumes ascended from furnaces below; and here, it is presumed, the Moorish queen was wont to sit to fumigate and sweeten her person. The emperor caused this pretty room to be painted with representations of his wars, and a great variety of grotesques, which appear to be copies, or at least imitations, of those in the loggie of the Vatican. From hence you go through a long passage to the hall of ambassadors, which is magnificently decorated with innumerable varieties of mosaics, and the mottoes of all the kings of Granada. This long narrow anti-chamber opens into the communa on the left hand, and on the right into the great audience-hall in the tower of Comares; a noble apartment, 36 feet square, 36 high up to the cornice, and 18 from thence to the centre of the cupola. The walls on three sides are 15 feet thick, on the other nine; the lower range of windows 13 feet high. The whole wall is inlaid with mosaic of many colours, disposed in intricate knots, stars, and other figures. In every part various Arabic sentences are repeated.\n",
      "Having thus completed the tour of the upper apartments, which are upon a level with the offices of the new palace, you descend to the lower floor, which consisted of bed-chambers and summer-rooms: the back stairs and passages, that facilitated the intercourse between them, are without number. The most remarkable room below is the king’s bed-chamber, which communicated by means of a gallery with the upper story. The beds were placed in two alcoves, upon a raised pavement of blue and white tiles; but as it was repaired by Philip V. who passed some time here, it cannot be said how it mđy have been in former times. A fountain played in the middle, to refresh the apartment in hot weather. Behind the alcoves are small doors, that conduct you to the royal baths. These consist of one small closet with marble cisterns for washing children, two rooms for grown up persons, and vaults for boilers and furnaces that supplied the baths with water and the stoves with vapours. The troughs are formed of large slabs of white marble; the walls are beautiful with party-coloured earthen ware: light is admitted by holes in the coved ceiling.\n",
      "Fiard by is a whispering gallery, and a kind of labyrinth, said to have been made for the diversion of the women and children. One of the passages of communication is fenced off with a strong iron grate, and called the prison of the Sultana ; but it seems more probable that it was put up to prevent any body from climbing into the division allotted to the women.\n",
      "Under the council-room is a long slip, called the hings study ; and adjoining to it are several vaults, said to be the place of burial of the royal family. In the year 1574 four sepulchres were opened; but as they contained nothing but bones and ashes, they were immediately closed again.\n",
      "This description of the Alhambra may be finished by observing how admirably every thing was planned and calculated for rendering this palace the most voluptuous of all retirements; what plentiful supplies of water were brought to refresh it in the hot months of summer; what a free circulation of air was contrived, by the judicious disposition of doors and windows; what shady gardens of aromatic trees; what noble views over the beautiful hills and fertile plains. No Wonder the Moors regretted Granada! no wonder that they still offer up prayers to God every Friday for the recovery of this city, which they regard as a terrestrial paradise!\n",
      "Alhambra, a town of 4000 inhabitants, in the department of Infantes, and province of La Mancha, in Spain.\n",
      "ALHAMBRA: , the ancient fortress and residence of the Moorish monarchs of Granada. It derives its name from the red colour of the materials with which it was originally built, Alhambra signifying a red house. It appears to a traveller a huge heap of as ugly buildings as can well be seen, all huddled together, seemingly without the least intention of forming one habitation out of them. The walls are entirely unornamented, all gravel and pebbles, daubed over with plaster by a very coarse hand; yet this is the palace of the Moorish-kings of Granada, indisputably the most curious place within that exists in Spain, perhaps in the world. In many countries may be seen excellent modern as well as ancient architecture, both entire and in ruins; but nothing to be met with anywhere else can convey an idea of this edifice, except the decorations of an opera, or the tales of the genii.Passing round the corner of the emperor’s palace, one is admitted at a plain, unornamented door in a corner. On my first visit, says Mr Swinburne (Travels in Spain), I confess I wąs struck with amazement, as I stept over the threshold, to find myself on a sudden transported into a species of fairy land. The first place you come to is the court called the commwna or del mesucar, that is, the common baths ; an oblong square, with a deep basin of clear water in the middle; two flights of marble steps leading down to the bottom; on each side a parterre of flowers, and a row of orange trees. Round the court runs a peristyle paved with marble; the arches bear upon very slight pillars, in proportions and style different from all the regular orders of architecture. The ceilings and walls are in-crustated with fretwork in stucco, so minute and intricate that the most patient draughtsman would find it difficult to follow it, unless he made himself master of the general plan. This would facilitate the operation exceedingly; for all this work is frequently and regularly repeated at certain distances, and has been executed by means of square moulds applied successively, and the parts joined together with the utmost nicety. In every division are Arabic sentences of different lengths, most of them expressive of the following meanings: “There is no conqueror but God;” or, “Obedience and honour to our lord Abouab-doulah.” The ceilings are gilt or painted, and time has caused no diminution in the freshness of their colours, though constantly exposed to the air. The lower part of the walls is Mosaic, disposed in fantastic knots and festoons. A work so novel, so exquisitely finished, and so different from all that he has ever seen, must afford a stranger the most agreeable sensations while he treads this magic ground. The porches at the ends are more like grotto-work than any thing else to which they can be compared. That on the right hand opens into an octagon vault, under the emperor’s palace, and forms a perfect whispering gallery, meant to be a communication between the offices of both houses.Opposite to the door of the communa through which you enter, is another leading into the quarto de lοs leones, or apartment of the lions, which is an oblong court, 100 feet in length and 50 in breadth, environed with a colonnade seven feet broad on the sides and 10 at the end. Two porticoes or cabinets, about 15 feet square, project into the court at the two extremities. The square is paved with coloured tiles, the colonnade with white marble. The walls are covered five feet up from the ground with blue and yellow tiles, disposed chequerwise. Above and below is a border of small escutcheons, enamelled blue and gold, with an Arabic motto on a bend, signifying, “No conqueror but God.” The columns that support the roof and gallery are of white marble, very slender, and fantastically adorned. They are nine feet high, including base and capital, and eight inches and a half in diameter. They are very irregularly placed; sometimes singly, at others in groups of three, but more frequently two together. The width of the horse-shoe arches above them is four feet two inches for the large ones, and three for the smaller. The ceiling of the portico is finished in a much finer and more complicated manner than that of the communa, and the stucco laid on the walls with inimitable delicacy; in the ceiling it is so artfully frosted and handled as to exceed belief. The capitals are of various designs, though each design is repeated several times in the circumference of the court, but not the least attention has been paid to placing them regularly or opposite to each other. Not the smallest representation of animal life can be discovered amidst the varieties of foliages, grotesques, and strange ornaments. About each arch is a large square of arabesques, surrounded with a rim of characters, tha are generally quotations from the Koran. Over the pillars is another square of delightful filligree work, up is a wooden rim, or kind of corniçe, as much ennche [7:2:513] with carving as the stucco that covers the part underneath. Over this projects a roof of red tiles, the only thing that disfigures this beautiful square. This ugly covering is a modern addition made by a late prime minister, who a few years ago gave the Alhambra a thorough repair. In Moorish times the building was covered with large painted and glazed tiles, of which a few are still to be seen In the centre of the court are twelve ill-made lions muzzled, their fore parts smooth, their hind parts rough, which bear upon their backs an enormous basin, out of which a lesser rises. While the pipes were kept in good order, a great volume of water was thrown up, that, falling down into the basins, passed through the beasts, and issued out of their mouths into a large reservoir, where it communicated by channels with the jets ďeau in the apartments. This fountain is of white marble, embellished with many festoons and Arabic distiches.Passing along the colonnade, and keeping on the south side, you come to a circular room occupied by the men as a place for drinking coffee, &c. A fountain in the middle refreshed the apartment in summer. The form of this hall, the elegance of its cupola, the cheerful distribution of light from above, and the exquisite manner in which the stucco is designed, painted, and finished, exceed all power of description. Every thing in it inspires the most pleasing, voluptuous ideas; yet in this sweet retreat they pretend that Abouabdoulah assembled the Abencerrages, and caused their heads to be struck off into the fountain. Continuing your walk round, you are next brought to a couple of rooms at the head of the court, which are supposed to have been tribunals, or audience-chambers.Opposite to the sala de los Abencerrages is the entrance into the torre de las dos hermanas, or the tower of the two sisters; so named from two very beautiful pieces of marble, laid as flags in the pavement. This gate exceeds all the rest in profusion of ornaments, and in beauty of prospect which it affords through a range of apartments, where a multitude of arches terminate in a large window open to the country. In a gleam of sunshine, the variety of tints and lights thrown upon this enfilade are uncommonly rich. The first hall is the concert room, where the women sat; the musicians played above in four balconies. In the middle is ay⅛ ďeau. The marble pavement is equal to the finest existing, for the size of the flags and evenness of the colour. The two sisters, which give name to the room, are slabs that measure 15 feet by seven and a half, without flaw or stain. The walls, up to a certain height, are mosaic, and above are divided into very neat compartments of stucco, all of one design, which is also followed in many of the adjacent halls and galleries. The ceiling is a fretted cove. To preserve this vaulted roof, as well as some of the other principal cupolas, the outward walls of the towers are raised ten feet above the top of the dome, and support another roof over all, by which means no danger can ever be caused by wet weather or excessive heat and cold. From this hall you pass round the little myrtle garden of Lindaraxa, into an additional building made to the east end by Charles V. The rooms are small and low. His dear motto, Plus outre, appears on every beam. This leads to a little tower projecting from the line of the north wall, called el tocador, or the dressing-room of the sultana, ļt is a small square cabinet, in the middle of an open gallery, from which it receives light by a door and three windows. The look-out is charming. In one corner is a large marble flag, drilled full of holes, through which the smoke of perfumes ascended from furnaces below; and here, it is presumed, the Moorish queen was wont to sit to fumigate and sweeten her person. The emperor caused this pretty room to be painted with representations of his wars, and a great variety of grotesques, which appear to be copies, or at least imitations, of those in the loggie of the Vatican. From hence you go through a long passage to the hall of ambassadors, which is magnificently decorated with innumerable varieties of mosaics, and the mottoes of all the kings of Granada. This long narrow anti-chamber opens into the communa on the left hand, and on the right into the great audience-hall in the tower of Comares; a noble apartment, 36 feet square, 36 high up to the cornice, and 18 from thence to the centre of the cupola. The walls on three sides are 15 feet thick, on the other nine; the lower range of windows 13 feet high. The whole wall is inlaid with mosaic of many colours, disposed in intricate knots, stars, and other figures. In every part various Arabic sentences are repeated.Having thus completed the tour of the upper apartments, which are upon a level with the offices of the new palace, you descend to the lower floor, which consisted of bed-chambers and summer-rooms: the back stairs and passages, that facilitated the intercourse between them, are without number. The most remarkable room below is the king’s bed-chamber, which communicated by means of a gallery with the upper story. The beds were placed in two alcoves, upon a raised pavement of blue and white tiles; but as it was repaired by Philip V. who passed some time here, it cannot be said how it mđy have been in former times. A fountain played in the middle, to refresh the apartment in hot weather. Behind the alcoves are small doors, that conduct you to the royal baths. These consist of one small closet with marble cisterns for washing children, two rooms for grown up persons, and vaults for boilers and furnaces that supplied the baths with water and the stoves with vapours. The troughs are formed of large slabs of white marble; the walls are beautiful with party-coloured earthen ware: light is admitted by holes in the coved ceiling.Fiard by is a whispering gallery, and a kind of labyrinth, said to have been made for the diversion of the women and children. One of the passages of communication is fenced off with a strong iron grate, and called the prison of the Sultana ; but it seems more probable that it was put up to prevent any body from climbing into the division allotted to the women.Under the council-room is a long slip, called the hings study ; and adjoining to it are several vaults, said to be the place of burial of the royal family. In the year 1574 four sepulchres were opened; but as they contained nothing but bones and ashes, they were immediately closed again.This description of the Alhambra may be finished by observing how admirably every thing was planned and calculated for rendering this palace the most voluptuous of all retirements; what plentiful supplies of water were brought to refresh it in the hot months of summer; what a free circulation of air was contrived, by the judicious disposition of doors and windows; what shady gardens of aromatic trees; what noble views over the beautiful hills and fertile plains. No Wonder the Moors regretted Granada! no wonder that they still offer up prayers to God every Friday for the recovery of this city, which they regard as a terrestrial paradise!\n",
      "ALHAMBRA: a town of 4000 inhabitants in the department of Infantes and province of La Mancha in Spain.\n",
      "ALPHONSUS TOSTATUS. See Tostatus.\n",
      "ALPHONSUS TOSTATUS: . See Tostatus.\n",
      "ANABOA, a small island situated near the coast of Loango, in Africa. Long. 9. E. Lat. 1. N.\n",
      "ANABOA: , a small island situated near the coast of Loango, in Africa. Long. 9. E. Lat. 1. N.\n",
      "ANALEPTICS, restorative or nourishing medicines.\n",
      "ANALEPTICS: , restorative or nourishing medicines.\n"
     ]
    }
   ],
   "source": [
    "data_path = \"../data/eb07-v1.2-TXT/\"\n",
    "\n",
    "count = 0\n",
    "#num pages == num of files in each folder\n",
    "for file in glob.glob(data_path + \"a2/*.txt\"):\n",
    "    count += 1\n",
    "    if count > 10:\n",
    "        break\n",
    "    \n",
    "    with open (file, 'r') as currFile:\n",
    "        text = currFile.read()\n",
    "        #print(text)\n",
    "        text = text.split(\"=+\")\n",
    "        \n",
    "        #get data of location in EB\n",
    "        ed_info = re.findall(\"\\[\\d+\\:\\d+\\:\\d+\\]\", text[1])[0].replace(\"[\", \"\").replace(\"]\", \"\")\n",
    "        ed_info = ed_info.split(\":\")\n",
    "        ed = ed_info[0]\n",
    "        vol = ed_info[1]\n",
    "        page = ed_info[2]\n",
    "        \n",
    "        \n",
    "        #Name adjkfadsjhlasdgjhasgdlj\n",
    "        #Name can also as adsjklgadsl\n",
    "        \n",
    "        #Split by terms\n",
    "        #TERM, def \n",
    "        #Term, def - same\n",
    "        #TERM, def - different\n",
    "        #TERM TERM def\n",
    "        #TERM def\n",
    "        # TERM, def\n",
    "        # def\n",
    "        #TERM, def\n",
    "        #def dfsakadsfh [#:##:##] adfjlfahkd\n",
    "        #AA, def\n",
    "        #Aa, def\n",
    "        #Aa, def\n",
    "        #A, \n",
    "        \n",
    "        #make DF then debug\n",
    "        \n",
    "        \n",
    "        lines = text[2].split('\\n')\n",
    "        lines = [x for x in lines if x]\n",
    "        \n",
    "        capital_pattern = '^[A-Z\\s]+(?![a-z])'\n",
    "        \n",
    "        term = \"\"\n",
    "        definition = \"\"\n",
    "        for line in lines:\n",
    "            print(line)\n",
    "            new_term = re.match(capital_pattern, line)\n",
    "            #print(line.split(\",\")[0])\n",
    "            #print(line.split(\",\")[0] + \" / \" + term + \" // \" + new_term.group())\n",
    "            if(new_term):\n",
    "                if(term != \"\"):\n",
    "                    print(term + \": \" + definition)\n",
    "                term = new_term.group().strip()\n",
    "                definition += line.replace(term, \"\")\n",
    "            #issue: what if term is two words?\n",
    "            elif(line.split(',')[0].upper() == term):\n",
    "                print(term + \": \" + definition)\n",
    "                definition = \"\".join(line.split(\",\")[1:]).strip()\n",
    "            else:\n",
    "                definition += line\n",
    "            \n",
    "            #term = term[0] + term[1:].lower()\n",
    "            #print(term + \"!@# \" + definition)\n",
    "            \n",
    "        print(term + \": \" + definition)"
   ]
  }
 ],
 "metadata": {
  "kernelspec": {
   "display_name": ".venv",
   "language": "python",
   "name": "python3"
  },
  "language_info": {
   "codemirror_mode": {
    "name": "ipython",
    "version": 3
   },
   "file_extension": ".py",
   "mimetype": "text/x-python",
   "name": "python",
   "nbconvert_exporter": "python",
   "pygments_lexer": "ipython3",
   "version": "3.10.7"
  },
  "orig_nbformat": 4
 },
 "nbformat": 4,
 "nbformat_minor": 2
}
